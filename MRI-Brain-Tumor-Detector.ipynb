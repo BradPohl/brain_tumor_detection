{
 "cells": [
  {
   "cell_type": "code",
   "execution_count": 1,
   "metadata": {},
   "outputs": [],
   "source": [
    "import numpy as np\n",
    "\n",
    "import torch\n",
    "from torch.utils.data import Dataset, DataLoader\n",
    "\n",
    "import glob\n",
    "\n",
    "import matplotlib.pyplot as plt\n",
    "\n",
    "from sklearn.metrics import confusion_matrix, accuracy_score\n",
    "\n",
    "import cv2"
   ]
  },
  {
   "cell_type": "markdown",
   "metadata": {},
   "source": [
    "<h4>Read the Images</h4>"
   ]
  },
  {
   "cell_type": "code",
   "execution_count": 2,
   "metadata": {},
   "outputs": [],
   "source": [
    "tumor = []\n",
    "path_yes = './brain_tumor_dataset/yes/*.jpg'\n",
    "\n",
    "#read the files using iglob, translate images using cv2\n",
    "for f in glob.iglob(path_yes):\n",
    "    img = cv2.imread(f)\n",
    "    img = cv2.resize(img, (128,128))\n",
    "    \n",
    "    #turn image back into rgb\n",
    "    b,g,r = cv2.split(img)\n",
    "    img = cv2.merge([r,g,b])\n",
    "    \n",
    "    tumor.append(img)"
   ]
  },
  {
   "cell_type": "code",
   "execution_count": 3,
   "metadata": {},
   "outputs": [],
   "source": [
    "healthy = []\n",
    "path_no = './brain_tumor_dataset/no/*.jpg'\n",
    "\n",
    "#read the files using iglob, translate images using cv2\n",
    "for f in glob.iglob(path_yes):\n",
    "    img = cv2.imread(f)\n",
    "    img = cv2.resize(img, (128,128))\n",
    "    \n",
    "    #turn image back into rgb\n",
    "    b,g,r = cv2.split(img)\n",
    "    img = cv2.merge([r,g,b])\n",
    "    \n",
    "    healthy.append(img)"
   ]
  },
  {
   "cell_type": "code",
   "execution_count": 6,
   "metadata": {},
   "outputs": [],
   "source": [
    "healthy = np.array(healthy)\n",
    "tumor = np.array(tumor)\n",
    "both = np.concatenate((healthy, tumor))"
   ]
  },
  {
   "cell_type": "code",
   "execution_count": null,
   "metadata": {},
   "outputs": [],
   "source": []
  }
 ],
 "metadata": {
  "kernelspec": {
   "display_name": "Python 3",
   "language": "python",
   "name": "python3"
  },
  "language_info": {
   "codemirror_mode": {
    "name": "ipython",
    "version": 3
   },
   "file_extension": ".py",
   "mimetype": "text/x-python",
   "name": "python",
   "nbconvert_exporter": "python",
   "pygments_lexer": "ipython3",
   "version": "3.6.13"
  }
 },
 "nbformat": 4,
 "nbformat_minor": 2
}
